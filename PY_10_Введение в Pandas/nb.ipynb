{
  "metadata": {
    "language_info": {
      "codemirror_mode": {
        "name": "python",
        "version": 3
      },
      "file_extension": ".py",
      "mimetype": "text/x-python",
      "name": "python",
      "nbconvert_exporter": "python",
      "pygments_lexer": "ipython3",
      "version": "3.8"
    },
    "kernelspec": {
      "name": "python",
      "display_name": "Python (Pyodide)",
      "language": "python"
    }
  },
  "nbformat_minor": 4,
  "nbformat": 4,
  "cells": [
    {
      "cell_type": "code",
      "source": "import pandas as pd\n\ncountries = pd.Series(\n    data = ['England', 'Canada', 'USA', \n            'Russia', 'Ukraina', 'Belarus', 'Kazahstan'],\n    index = ['UK', 'CA', 'US', 'RU', 'UA', 'BY', 'KZ'],\n    name = 'countries'\n)\n\ndisplay(countries)\n",
      "metadata": {
        "trusted": true
      },
      "execution_count": 2,
      "outputs": [
        {
          "output_type": "display_data",
          "data": {
            "text/plain": "UK      England\nCA       Canada\nUS          USA\nRU       Russia\nUA      Ukraina\nBY      Belarus\nKZ    Kazahstan\nName: countries, dtype: object"
          },
          "metadata": {}
        }
      ]
    },
    {
      "cell_type": "code",
      "source": "countries_df = pd.DataFrame(\n    data= [\n        ['England', 56.29, 133396],\n        ['Canada', 38.05, 9984670],\n        ['USA', 322.28, 9826630],\n        ['Russia', 146.24, 17125191],\n        ['Ukraina', 45.5, 603628],\n        ['Belarus', 9.5, 207600],\n        ['Kazahstan', 17.04, 2724902]\n    ],\n    columns= ['country', 'population', 'square'],\n    index= ['UK', 'CA', 'US', 'RU', 'UA', 'BY', 'KZ']\n)\n\ndisplay(countries_df)",
      "metadata": {
        "trusted": true
      },
      "execution_count": 4,
      "outputs": [
        {
          "output_type": "display_data",
          "data": {
            "text/plain": "      country  population    square\nUK    England       56.29    133396\nCA     Canada       38.05   9984670\nUS        USA      322.28   9826630\nRU     Russia      146.24  17125191\nUA    Ukraina       45.50    603628\nBY    Belarus        9.50    207600\nKZ  Kazahstan       17.04   2724902",
            "text/html": "<div>\n<style scoped>\n    .dataframe tbody tr th:only-of-type {\n        vertical-align: middle;\n    }\n\n    .dataframe tbody tr th {\n        vertical-align: top;\n    }\n\n    .dataframe thead th {\n        text-align: right;\n    }\n</style>\n<table border=\"1\" class=\"dataframe\">\n  <thead>\n    <tr style=\"text-align: right;\">\n      <th></th>\n      <th>country</th>\n      <th>population</th>\n      <th>square</th>\n    </tr>\n  </thead>\n  <tbody>\n    <tr>\n      <th>UK</th>\n      <td>England</td>\n      <td>56.29</td>\n      <td>133396</td>\n    </tr>\n    <tr>\n      <th>CA</th>\n      <td>Canada</td>\n      <td>38.05</td>\n      <td>9984670</td>\n    </tr>\n    <tr>\n      <th>US</th>\n      <td>USA</td>\n      <td>322.28</td>\n      <td>9826630</td>\n    </tr>\n    <tr>\n      <th>RU</th>\n      <td>Russia</td>\n      <td>146.24</td>\n      <td>17125191</td>\n    </tr>\n    <tr>\n      <th>UA</th>\n      <td>Ukraina</td>\n      <td>45.50</td>\n      <td>603628</td>\n    </tr>\n    <tr>\n      <th>BY</th>\n      <td>Belarus</td>\n      <td>9.50</td>\n      <td>207600</td>\n    </tr>\n    <tr>\n      <th>KZ</th>\n      <td>Kazahstan</td>\n      <td>17.04</td>\n      <td>2724902</td>\n    </tr>\n  </tbody>\n</table>\n</div>"
          },
          "metadata": {}
        }
      ]
    },
    {
      "cell_type": "code",
      "source": "",
      "metadata": {},
      "execution_count": null,
      "outputs": []
    }
  ]
}